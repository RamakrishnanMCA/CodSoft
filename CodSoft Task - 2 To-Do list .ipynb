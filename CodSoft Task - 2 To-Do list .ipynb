{
 "cells": [
  {
   "cell_type": "code",
   "execution_count": 2,
   "id": "caf0d226",
   "metadata": {},
   "outputs": [],
   "source": [
    "# A To-Do List application is a useful project that helps users manage and organize their tasks efficiently. This project \n",
    "# aims to create a GUI-based application using Python.\n",
    "\n",
    "from tkinter import *\n",
    "\n",
    "todo=Tk()\n",
    "todo.title(\"To-Do List\")\n",
    "todo.geometry('500x400')\n",
    "\n",
    "label=Label(todo,text=\"TO-DO LIST APP\",font=('Times',20),bg=\"Gold\")\n",
    "label.pack()\n",
    "\n",
    "l1= Label(todo,text=\"ADD TASK\",font=('Times',13))\n",
    "l1.place(x=40,y=42)\n",
    "\n",
    "l2=Label(todo,text=\"TASKS\",font=('Times',15))\n",
    "l2.place(x=185,y=115)\n",
    "\n",
    "lb = Listbox(todo,width=42,bd=13,bg='turquoise')\n",
    "lb.place(x=40,y=150)\n",
    "\n",
    "t1=Text(todo,width=20,height=1)\n",
    "t1.place(x=40,y=74)\n",
    "\n",
    "def add():\n",
    "    text1= t1.get(1.0,END)\n",
    "    lb.insert(END, text1)\n",
    "    with open('Tasks.txt','a') as f:\n",
    "        f.write(text1)\n",
    "        f.seek(0)\n",
    "        f.close()\n",
    "    t1.delete(1.0,END)\n",
    "    \n",
    "def delete():\n",
    "    text2=lb.curselection()\n",
    "    content=lb.get(text2)\n",
    "    with open('Tasks.txt','r+') as f:\n",
    "        line=f.readline()\n",
    "        f.seek(0)\n",
    "        for item in line:\n",
    "            item1=str(content)\n",
    "            if item1 not in item:\n",
    "                f.write(item)\n",
    "        f.truncate()\n",
    "    lb.delete(text2)\n",
    "\n",
    "bt1 = Button(todo,text=\"ADD\",width=10,font='bold',bg='turquoise',activebackground='cyan',command=add)\n",
    "bt1.place(x=275,y=70)\n",
    "\n",
    "bt2= Button(todo,text=\"DELETE\",width=10,font='bold',bg='turquoise',activebackground='cyan',command=delete)\n",
    "bt2.place(x=385,y=68)\n",
    "\n",
    "todo.config(bg=\"salmon\")\n",
    "todo.mainloop()"
   ]
  },
  {
   "cell_type": "code",
   "execution_count": null,
   "id": "58fe142f",
   "metadata": {},
   "outputs": [],
   "source": []
  }
 ],
 "metadata": {
  "kernelspec": {
   "display_name": "Python 3 (ipykernel)",
   "language": "python",
   "name": "python3"
  },
  "language_info": {
   "codemirror_mode": {
    "name": "ipython",
    "version": 3
   },
   "file_extension": ".py",
   "mimetype": "text/x-python",
   "name": "python",
   "nbconvert_exporter": "python",
   "pygments_lexer": "ipython3",
   "version": "3.11.5"
  }
 },
 "nbformat": 4,
 "nbformat_minor": 5
}
