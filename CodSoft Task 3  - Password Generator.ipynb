{
 "cells": [
  {
   "cell_type": "code",
   "execution_count": 1,
   "id": "40504ee3",
   "metadata": {},
   "outputs": [
    {
     "name": "stdout",
     "output_type": "stream",
     "text": [
      "Options:\n",
      "    1. Generate Password\n",
      "    2. Exit\n",
      "Enter your choice: 1\n",
      "Enter your Password Length: 8\n",
      "Password:  umbiwDCY\n",
      "Options:\n",
      "    1. Generate Password\n",
      "    2. Exit\n",
      "Enter your choice: 1\n",
      "Enter your Password Length: 12\n",
      "Password:  DQyJOoGX%q%b\n",
      "Options:\n",
      "    1. Generate Password\n",
      "    2. Exit\n",
      "Enter your choice: 1\n",
      "Enter your Password Length: 10\n",
      "Password:  2eAew7@r#j\n",
      "Options:\n",
      "    1. Generate Password\n",
      "    2. Exit\n",
      "Enter your choice: 2\n",
      "Exiting the Random Password Generator\n"
     ]
    }
   ],
   "source": [
    "# A password generator is a useful tool that generates strong and random passwords for users. This project aims to create a\n",
    "# password generator application using Python, allowing users to specify the length and complexity of the password.\n",
    "# User Input: Prompt the user to specify the desired length of the password.\n",
    "# Generate Password: Use a combination of random characters to generate a password of the specified length.\n",
    "# Display the Password: Print the generated password on the screen.\n",
    "\n",
    "import random\n",
    "def Password_Generator(length):\n",
    "\n",
    "    chars = \"abcdefghijklmnopqrstuvwxyzABCDEFGHIJKLMNOPQRSTUVWXYZ1234567890!@#$%^&*\"\n",
    "\n",
    "    if length<=0:\n",
    "        return \"password length must be greater than 0\"\n",
    "\n",
    "    password = \"\"   \n",
    "\n",
    "    for index in range(length):\n",
    "        password = password + random.choice(chars)\n",
    "\n",
    "    return password\n",
    "\n",
    "while True:\n",
    "    print(\"\"\"Options:\n",
    "    1. Generate Password\n",
    "    2. Exit\"\"\")\n",
    "    \n",
    "    choice=int(input(\"Enter your choice: \"))\n",
    "    if choice==1:\n",
    "        try:\n",
    "            password_len=int(input(\"Enter your Password Length: \"))\n",
    "            password= Password_Generator(password_len)\n",
    "            print(\"Password: \",password)\n",
    "            \n",
    "        except ValueError:\n",
    "            print(\"Invalid Input. Please enter a valid password length.\")\n",
    "    \n",
    "    elif choice==2:\n",
    "        print(\"Exiting the Random Password Generator\")\n",
    "        break\n",
    "    else:\n",
    "        print(\"Invalid choice\")"
   ]
  },
  {
   "cell_type": "code",
   "execution_count": null,
   "id": "47b4dcd1",
   "metadata": {},
   "outputs": [],
   "source": []
  }
 ],
 "metadata": {
  "kernelspec": {
   "display_name": "Python 3 (ipykernel)",
   "language": "python",
   "name": "python3"
  },
  "language_info": {
   "codemirror_mode": {
    "name": "ipython",
    "version": 3
   },
   "file_extension": ".py",
   "mimetype": "text/x-python",
   "name": "python",
   "nbconvert_exporter": "python",
   "pygments_lexer": "ipython3",
   "version": "3.11.5"
  }
 },
 "nbformat": 4,
 "nbformat_minor": 5
}
